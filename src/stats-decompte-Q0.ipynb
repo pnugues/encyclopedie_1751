{
 "cells": [
  {
   "cell_type": "markdown",
   "metadata": {},
   "source": [
    "# Statistiques et décompte des valeurs `Q0`\n",
    "Décompte des articles annotés et des valeurs `Q0`.\n",
    "\n",
    "`Q0` indique une localité que nous n'avons pas pu trouver\n",
    "\n",
    "Auteur : Pierre Nugues"
   ]
  },
  {
   "cell_type": "code",
   "execution_count": 1,
   "metadata": {
    "metadata": {}
   },
   "outputs": [],
   "source": [
    "import json\n",
    "import pandas as pd\n",
    "from collections import Counter"
   ]
  },
  {
   "cell_type": "code",
   "execution_count": 2,
   "metadata": {
    "metadata": {}
   },
   "outputs": [],
   "source": [
    "with open('diderot_1751_wd_extraction.json', 'r') as f:\n",
    "    diderot_wd = json.loads(f.read())"
   ]
  },
  {
   "cell_type": "markdown",
   "metadata": {},
   "source": [
    "Article de géographie simple"
   ]
  },
  {
   "cell_type": "code",
   "execution_count": 3,
   "metadata": {
    "metadata": {}
   },
   "outputs": [
    {
     "data": {
      "text/plain": [
       "{'vedette': 'A',\n",
       " 'entreeid': 'v1-9-0',\n",
       " 'texte': '*\\u200b A, s. petite riviere de France, qui a sa source près de Fontaines en Sologne.',\n",
       " 'qid': ['Q15803785'],\n",
       " 'note': 'https://fr.wikisource.org/wiki/Page:Trevoux_-_Dictionnaire,_1743,_T01,_A.djvu/32',\n",
       " 'wd_statements': [{'desc_en': ['river in France'],\n",
       "   'desc_fr': ['rivière française'],\n",
       "   'libellé_en': ['Conon'],\n",
       "   'libellé_fr': ['Conon'],\n",
       "   'type': ['Q4022'],\n",
       "   'geo': ['Point(1.4019444 47.53333282)']}]}"
      ]
     },
     "execution_count": 3,
     "metadata": {},
     "output_type": "execute_result"
    }
   ],
   "source": [
    "diderot_wd[0]"
   ]
  },
  {
   "cell_type": "markdown",
   "metadata": {},
   "source": [
    "Article de géographie avec des biographies"
   ]
  },
  {
   "cell_type": "code",
   "execution_count": 4,
   "metadata": {},
   "outputs": [
    {
     "data": {
      "text/plain": [
       "{'vedette': 'GRENOBLE',\n",
       " 'entreeid': 'v7-1475-0',\n",
       " 'texte': 'GRENOBLE, Gratianopolis, (Géogr.)\\u200b ancienne ville de France, capitale du Dauphiné, avec un évêché suffragant de Vienne, & un parlement érigé en 1493 par Louis XI. qui n’étoit encore que dauphin ; mais son pere ratifia cette érection deux ans après.\\n\\n\\nGrenoble est sur l’Isere, à onze lieues S O. de Chambéri, quarante-deux N. O. de Turin, seize S. E. de Vienne, cent vingt-quatre S. O. de Paris. Long. suivant Harris, 23d. 31′. 15″. suivant Cassini, 23d. 14′. 15″. latit 45d. 11′.\\n\\n\\nCette ville reçut le nom de Gratianopolis de l’empereur Gratien fils de Valentinien I. car elle s’appelloit auparavant Cularo ; & c’est sous ce nom qu’il en est parlé dans une lettre de Plancus à Cicéron, epist. xxiij. Long-tems après, les Romains l’érigerent en cité : dans le cinquieme siecle, elle fut assujettie par les Bourguignons, & dans le sixieme par les François Mérovingiens ; ensuite elle a obéi à Lothaire, à Boson, à Charles le Gros, à Louis l’Aveugle, à Rodolphe II. à Conrad & à Rodolphe le lâche, ses fils, qui lui donnerent de grands priviléges.\\n\\n\\nOn met au nombre des jurisconsultes dont Grenoble est la patrie, Pape (Guy), qui mourut en 1487 ; son recueil de décisions des plus belles questions de droit, n’est pas encore tombé dans l’oubli.\\n\\n\\nM. de Bouchenu de Valbonnais, (Jean Pierre Moret) premier président du parlement de Grenoble, né dans cette ville le 23 Juin 1651, mérite le titre du plus savant historiographe de son pays, par la belle histoire du Dauphiné, qu’il a publiée en trois vol. in fol. il est mort en 1730, âgé de 79 ans. Il voyagea dans sa jeunesse, & se trouva sur la flotte d’Angleterre à la bataille de Solbaye, la plus furieuse qu’eût encore vû Ruyter, & où l’on s’attribua l’avantage de part & d’autre. (D. J.)\\u200b',\n",
       " 'qid': ['Q1289', 'Q41617345', 'Q3169582'],\n",
       " 'note': 'Bouillet, 11654',\n",
       " 'wd_statements': [{'desc_en': ['commune in Isère, France'],\n",
       "   'desc_fr': [\"ville et commune française, chef-lieu du département de l'Isère, en région Auvergne-Rhône-Alpes\"],\n",
       "   'libellé_en': ['Grenoble'],\n",
       "   'libellé_fr': ['Grenoble'],\n",
       "   'type': ['Q484170', 'Q1549591'],\n",
       "   'geo': ['Point(5.726388888 45.186944444)']},\n",
       "  {'desc_en': ['French jurist-consult (c. 1402-1487)'],\n",
       "   'desc_fr': ['jurisconsulte français'],\n",
       "   'libellé_en': ['Guy Pape'],\n",
       "   'libellé_fr': ['Gui Pape'],\n",
       "   'type': ['Q5'],\n",
       "   'dn': ['1402-01-01T00:00:00Z'],\n",
       "   'dd': ['1487-01-01T00:00:00Z']},\n",
       "  {'desc_en': ['French historian (1651-1730)'],\n",
       "   'desc_fr': ['historien français'],\n",
       "   'libellé_en': ['Jean-Pierre Moret de Bourchenu'],\n",
       "   'libellé_fr': ['Jean-Pierre Moret de Bourchenu'],\n",
       "   'type': ['Q5'],\n",
       "   'dn': ['1651-06-23T00:00:00Z'],\n",
       "   'dd': ['1730-03-02T00:00:00Z']}]}"
      ]
     },
     "execution_count": 4,
     "metadata": {},
     "output_type": "execute_result"
    }
   ],
   "source": [
    "diderot_wd[4909]"
   ]
  },
  {
   "cell_type": "markdown",
   "metadata": {},
   "source": [
    "## Décompte des `Q0`"
   ]
  },
  {
   "cell_type": "code",
   "execution_count": 5,
   "metadata": {},
   "outputs": [
    {
     "data": {
      "text/plain": [
       "15274"
      ]
     },
     "execution_count": 5,
     "metadata": {},
     "output_type": "execute_result"
    }
   ],
   "source": [
    "len(diderot_wd)"
   ]
  },
  {
   "cell_type": "code",
   "execution_count": 6,
   "metadata": {
    "metadata": {}
   },
   "outputs": [],
   "source": [
    "cnt_articles = len(diderot_wd)\n",
    "cnt_articles_avec_qid = 0\n",
    "cnt_qid = 0\n",
    "cnt_article_avec_qid0 = 0\n",
    "cnt_qid0 = 0\n",
    "\n",
    "for article in diderot_wd:\n",
    "    if 'qid' in article:\n",
    "        cnt_articles_avec_qid += 1\n",
    "        cnt_qid += len(article['qid'])\n",
    "        if 'Q0' in article['qid']:\n",
    "            cnt_article_avec_qid0 += 1\n",
    "            cnt_qid0 += article['qid'].count('Q0')"
   ]
  },
  {
   "cell_type": "markdown",
   "metadata": {},
   "source": [
    "Pourcentages d'articles annotés"
   ]
  },
  {
   "cell_type": "code",
   "execution_count": 7,
   "metadata": {
    "metadata": {}
   },
   "outputs": [
    {
     "data": {
      "text/plain": [
       "(10614, 15274, 0.6949063768495483)"
      ]
     },
     "execution_count": 7,
     "metadata": {},
     "output_type": "execute_result"
    }
   ],
   "source": [
    "cnt_articles_avec_qid, cnt_articles, cnt_articles_avec_qid / cnt_articles"
   ]
  },
  {
   "cell_type": "markdown",
   "metadata": {},
   "source": [
    "Pourcentage des articles avec au moins un `Q0`"
   ]
  },
  {
   "cell_type": "code",
   "execution_count": 8,
   "metadata": {
    "metadata": {}
   },
   "outputs": [
    {
     "data": {
      "text/plain": [
       "(222, 10614, 0.020915771622385528)"
      ]
     },
     "execution_count": 8,
     "metadata": {},
     "output_type": "execute_result"
    }
   ],
   "source": [
    "cnt_article_avec_qid0, cnt_articles_avec_qid, cnt_article_avec_qid0/cnt_articles_avec_qid"
   ]
  },
  {
   "cell_type": "markdown",
   "metadata": {},
   "source": [
    "Pourcentage des `Q0` sur toutes les annotations"
   ]
  },
  {
   "cell_type": "code",
   "execution_count": 9,
   "metadata": {
    "metadata": {}
   },
   "outputs": [
    {
     "data": {
      "text/plain": [
       "(355, 13423, 0.02644714296356999)"
      ]
     },
     "execution_count": 9,
     "metadata": {},
     "output_type": "execute_result"
    }
   ],
   "source": [
    "cnt_qid0, cnt_qid, cnt_qid0 / cnt_qid"
   ]
  },
  {
   "cell_type": "markdown",
   "metadata": {},
   "source": [
    "Total des articles avec un `Q0`"
   ]
  },
  {
   "cell_type": "code",
   "execution_count": 10,
   "metadata": {
    "metadata": {}
   },
   "outputs": [
    {
     "data": {
      "text/plain": [
       "0.020915771622385528"
      ]
     },
     "execution_count": 10,
     "metadata": {},
     "output_type": "execute_result"
    }
   ],
   "source": [
    "cnt_article_avec_qid0/cnt_articles_avec_qid"
   ]
  },
  {
   "cell_type": "markdown",
   "metadata": {},
   "source": [
    "## Statistiques complètes"
   ]
  },
  {
   "cell_type": "code",
   "execution_count": 11,
   "metadata": {
    "metadata": {}
   },
   "outputs": [],
   "source": [
    "nbr_ann = 0\n",
    "nbr_geo_seul = 0\n",
    "nrb_liens = 0\n",
    "nrb_liens_geo_seul = 0\n",
    "nbr_art_q0 = 0\n",
    "nbr_q0 = 0\n",
    "nbr_region = 0\n",
    "nbr_art_avec_humains = 0\n",
    "nbr_humains = 0\n",
    "nbr_liens_avec_humains = 0\n",
    "nbr_renvoi = 0\n",
    "\n",
    "for article in diderot_wd:\n",
    "    if 'qid' in article:\n",
    "        nbr_ann += 1\n",
    "        nrb_liens += len(article['qid'])\n",
    "        if 'Q0' in article['qid']:\n",
    "            nbr_art_q0 += 1\n",
    "            nbr_q0 += article['qid'].count('Q0')\n",
    "        pas_dhumains = True\n",
    "        if 'wd_statements' in article:\n",
    "            for sous_article in article['wd_statements']:  # Nombre d'humains\n",
    "                if 'type' in sous_article and 'Q5' in sous_article['type']:\n",
    "                    nbr_humains += 1\n",
    "\n",
    "            # Nombre d'articles avec humains\n",
    "            for sous_article in article['wd_statements']:\n",
    "                if 'type' in sous_article and 'Q5' in sous_article['type']:\n",
    "                    nbr_art_avec_humains += 1\n",
    "                    nbr_liens_avec_humains += len(article['qid'])\n",
    "                    pas_dhumains = False\n",
    "                    break\n",
    "        if pas_dhumains:\n",
    "            nbr_geo_seul += 1\n",
    "            nrb_liens_geo_seul += len(article['qid'])\n",
    "    elif 'renvoi' in article:\n",
    "        nbr_renvoi += 1\n",
    "    elif 'qid_region' in article:\n",
    "        nbr_region += 1\n",
    "    else:\n",
    "        print('Erreur !', article)"
   ]
  },
  {
   "cell_type": "code",
   "execution_count": 12,
   "metadata": {
    "metadata": {}
   },
   "outputs": [],
   "source": [
    "df = pd.DataFrame(\n",
    "    [{'Annotés': nbr_ann, 'Liens': nrb_liens, 'Q0': nbr_art_q0, 'Q0 totaux': nbr_q0, 'Reste': nbr_region},\n",
    "     {'Annotés': nbr_renvoi},\n",
    "     {'Annotés': nbr_ann + nbr_renvoi},\n",
    "     {'Annotés': nbr_art_avec_humains, 'Humains': nbr_humains,\n",
    "         'Liens': nbr_liens_avec_humains, 'Reste': 0},\n",
    "     {'Annotés': nbr_ann + nbr_renvoi - nbr_art_avec_humains},\n",
    "     {'Annotés': nbr_geo_seul, 'Liens': nrb_liens_geo_seul},\n",
    "     ],\n",
    "    index=['Articles de géographie', 'Renvois', 'Total annotés et renvois', 'Articles contenants des biographies', 'Articles sans biographies', 'Articles sans biographies et sans renvoi'])"
   ]
  },
  {
   "cell_type": "code",
   "execution_count": 13,
   "metadata": {
    "metadata": {}
   },
   "outputs": [
    {
     "data": {
      "text/html": [
       "<div>\n",
       "<style scoped>\n",
       "    .dataframe tbody tr th:only-of-type {\n",
       "        vertical-align: middle;\n",
       "    }\n",
       "\n",
       "    .dataframe tbody tr th {\n",
       "        vertical-align: top;\n",
       "    }\n",
       "\n",
       "    .dataframe thead th {\n",
       "        text-align: right;\n",
       "    }\n",
       "</style>\n",
       "<table border=\"1\" class=\"dataframe\">\n",
       "  <thead>\n",
       "    <tr style=\"text-align: right;\">\n",
       "      <th></th>\n",
       "      <th>Annotés</th>\n",
       "      <th>Liens</th>\n",
       "      <th>Q0</th>\n",
       "      <th>Q0 totaux</th>\n",
       "      <th>Reste</th>\n",
       "      <th>Humains</th>\n",
       "    </tr>\n",
       "  </thead>\n",
       "  <tbody>\n",
       "    <tr>\n",
       "      <th>Articles de géographie</th>\n",
       "      <td>10614</td>\n",
       "      <td>13423.0</td>\n",
       "      <td>222.0</td>\n",
       "      <td>355.0</td>\n",
       "      <td>4589.0</td>\n",
       "      <td>NaN</td>\n",
       "    </tr>\n",
       "    <tr>\n",
       "      <th>Renvois</th>\n",
       "      <td>71</td>\n",
       "      <td>NaN</td>\n",
       "      <td>NaN</td>\n",
       "      <td>NaN</td>\n",
       "      <td>NaN</td>\n",
       "      <td>NaN</td>\n",
       "    </tr>\n",
       "    <tr>\n",
       "      <th>Total annotés et renvois</th>\n",
       "      <td>10685</td>\n",
       "      <td>NaN</td>\n",
       "      <td>NaN</td>\n",
       "      <td>NaN</td>\n",
       "      <td>NaN</td>\n",
       "      <td>NaN</td>\n",
       "    </tr>\n",
       "    <tr>\n",
       "      <th>Articles contenants des biographies</th>\n",
       "      <td>842</td>\n",
       "      <td>2666.0</td>\n",
       "      <td>NaN</td>\n",
       "      <td>NaN</td>\n",
       "      <td>0.0</td>\n",
       "      <td>1718.0</td>\n",
       "    </tr>\n",
       "    <tr>\n",
       "      <th>Articles sans biographies</th>\n",
       "      <td>9843</td>\n",
       "      <td>NaN</td>\n",
       "      <td>NaN</td>\n",
       "      <td>NaN</td>\n",
       "      <td>NaN</td>\n",
       "      <td>NaN</td>\n",
       "    </tr>\n",
       "    <tr>\n",
       "      <th>Articles sans biographies et sans renvoi</th>\n",
       "      <td>9772</td>\n",
       "      <td>10757.0</td>\n",
       "      <td>NaN</td>\n",
       "      <td>NaN</td>\n",
       "      <td>NaN</td>\n",
       "      <td>NaN</td>\n",
       "    </tr>\n",
       "  </tbody>\n",
       "</table>\n",
       "</div>"
      ],
      "text/plain": [
       "                                          Annotés    Liens     Q0  Q0 totaux  \\\n",
       "Articles de géographie                      10614  13423.0  222.0      355.0   \n",
       "Renvois                                        71      NaN    NaN        NaN   \n",
       "Total annotés et renvois                    10685      NaN    NaN        NaN   \n",
       "Articles contenants des biographies           842   2666.0    NaN        NaN   \n",
       "Articles sans biographies                    9843      NaN    NaN        NaN   \n",
       "Articles sans biographies et sans renvoi     9772  10757.0    NaN        NaN   \n",
       "\n",
       "                                           Reste  Humains  \n",
       "Articles de géographie                    4589.0      NaN  \n",
       "Renvois                                      NaN      NaN  \n",
       "Total annotés et renvois                     NaN      NaN  \n",
       "Articles contenants des biographies          0.0   1718.0  \n",
       "Articles sans biographies                    NaN      NaN  \n",
       "Articles sans biographies et sans renvoi     NaN      NaN  "
      ]
     },
     "execution_count": 13,
     "metadata": {},
     "output_type": "execute_result"
    }
   ],
   "source": [
    "df"
   ]
  },
  {
   "cell_type": "markdown",
   "metadata": {},
   "source": [
    "## Partition en régions des articles restant à annoter"
   ]
  },
  {
   "cell_type": "code",
   "execution_count": 14,
   "metadata": {},
   "outputs": [],
   "source": [
    "regions = []\n",
    "for i, article in enumerate(diderot_wd):\n",
    "    if 'qid' in article:\n",
    "        continue\n",
    "    if 'renvoi' in article:\n",
    "        continue\n",
    "    if 'qid_region' in article:\n",
    "        regions += article['qid_region']"
   ]
  },
  {
   "cell_type": "code",
   "execution_count": 15,
   "metadata": {},
   "outputs": [],
   "source": [
    "cnt = Counter(regions)"
   ]
  },
  {
   "cell_type": "code",
   "execution_count": 16,
   "metadata": {},
   "outputs": [
    {
     "data": {
      "text/plain": [
       "(32,\n",
       " [('Q41', 537),\n",
       "  ('Q15', 493),\n",
       "  ('Q51614', 476),\n",
       "  ('Q38', 347),\n",
       "  ('Q668', 274),\n",
       "  ('Q794', 225),\n",
       "  ('Q18', 192),\n",
       "  ('Q49', 190),\n",
       "  ('Q183', 158),\n",
       "  ('Q28', 156),\n",
       "  ('Q23522', 155),\n",
       "  ('Q29', 154),\n",
       "  ('Q23792', 125),\n",
       "  ('Q36', 121),\n",
       "  ('Q159', 115),\n",
       "  ('Q142', 102),\n",
       "  ('Q31945', 98),\n",
       "  ('Q252', 89),\n",
       "  ('Q148', 81),\n",
       "  ('Q55', 74),\n",
       "  ('Q115', 71),\n",
       "  ('Q17', 65),\n",
       "  ('Q11768', 61),\n",
       "  ('Q21', 51),\n",
       "  ('Q66747521', 50),\n",
       "  ('Q309272', 44),\n",
       "  ('Q22', 32),\n",
       "  ('Q45', 23),\n",
       "  ('Q39', 11),\n",
       "  ('Q20', 8),\n",
       "  ('Q408', 7),\n",
       "  ('Q165', 4)])"
      ]
     },
     "execution_count": 16,
     "metadata": {},
     "output_type": "execute_result"
    }
   ],
   "source": [
    "len(cnt), cnt.most_common()"
   ]
  },
  {
   "cell_type": "code",
   "execution_count": null,
   "metadata": {},
   "outputs": [],
   "source": []
  }
 ],
 "metadata": {
  "kernelspec": {
   "display_name": "base",
   "language": "python",
   "name": "python3"
  },
  "language_info": {
   "codemirror_mode": {
    "name": "ipython",
    "version": 3
   },
   "file_extension": ".py",
   "mimetype": "text/x-python",
   "name": "python",
   "nbconvert_exporter": "python",
   "pygments_lexer": "ipython3",
   "version": "3.12.4"
  }
 },
 "nbformat": 4,
 "nbformat_minor": 2
}
